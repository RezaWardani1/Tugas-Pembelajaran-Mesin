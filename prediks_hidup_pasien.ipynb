{
  "metadata": {
    "kernelspec": {
      "language": "python",
      "display_name": "Python 3",
      "name": "python3"
    },
    "language_info": {
      "pygments_lexer": "ipython3",
      "nbconvert_exporter": "python",
      "version": "3.6.4",
      "file_extension": ".py",
      "codemirror_mode": {
        "name": "ipython",
        "version": 3
      },
      "name": "python",
      "mimetype": "text/x-python"
    },
    "kaggle": {
      "accelerator": "none",
      "dataSources": [
        {
          "sourceId": 966,
          "sourceType": "datasetVersion",
          "datasetId": 474
        }
      ],
      "dockerImageVersionId": 30042,
      "isInternetEnabled": false,
      "language": "python",
      "sourceType": "notebook",
      "isGpuEnabled": false
    },
    "colab": {
      "provenance": []
    }
  },
  "nbformat_minor": 0,
  "nbformat": 4,
  "cells": [
    {
      "cell_type": "markdown",
      "source": [
        "**NAMA : REZA WARDANI\n",
        "nim  : E1E121088**\n",
        "\n",
        "\n",
        "Pada tugas ini menggunakan data untuk memprediksi kelangsungan hidup pasien yang telah mengalami operasi payudara. Dengan informasi yang dimiliki terkait pasien, kita akan membuat model untuk memprediksi apakah pasien akan bertahan hidup dalam waktu lebih dari 5 tahun atau tidak."
      ],
      "metadata": {
        "id": "EV6CYVeSOO5J"
      }
    },
    {
      "cell_type": "markdown",
      "source": [
        "# Evaluasi Matriks"
      ],
      "metadata": {
        "id": "ln8py6rYOO5L"
      }
    },
    {
      "cell_type": "markdown",
      "source": [
        "**Import dataset**"
      ],
      "metadata": {
        "id": "KzX2DaLTOO5M"
      }
    },
    {
      "cell_type": "code",
      "source": [
        "import pandas as pd\n",
        "import numpy as np\n",
        "\n",
        "url = '/content/sample_data/haberman.csv'\n",
        "list_cols = ['Age', \"Patient's Years\", \"N_positive_ax\", \"survival_status\"]\n",
        "df = pd.read_csv(url, names=list_cols)"
      ],
      "metadata": {
        "_uuid": "8f2839f25d086af736a60e9eeb907d3b93b6e0e5",
        "_cell_guid": "b1076dfc-b9ad-4769-8c92-a6c4dae69d19",
        "trusted": true,
        "id": "OtK31_nsOO5M"
      },
      "execution_count": 1,
      "outputs": []
    },
    {
      "cell_type": "markdown",
      "source": [
        "Menampilkan data teratas"
      ],
      "metadata": {
        "id": "E9mqz2HTOO5N"
      }
    },
    {
      "cell_type": "code",
      "source": [
        "df.head()"
      ],
      "metadata": {
        "_uuid": "d629ff2d2480ee46fbb7e2d37f6b5fab8052498a",
        "_cell_guid": "79c7e3d0-c299-4dcb-8224-4455121ee9b0",
        "trusted": true,
        "colab": {
          "base_uri": "https://localhost:8080/",
          "height": 206
        },
        "id": "FYjYoFBPOO5N",
        "outputId": "326237aa-e671-4d3d-ed0f-942545c89995"
      },
      "execution_count": 2,
      "outputs": [
        {
          "output_type": "execute_result",
          "data": {
            "text/plain": [
              "   Age  Patient's Years  N_positive_ax  survival_status\n",
              "0   30               64              1                1\n",
              "1   30               62              3                1\n",
              "2   30               65              0                1\n",
              "3   31               59              2                1\n",
              "4   31               65              4                1"
            ],
            "text/html": [
              "\n",
              "  <div id=\"df-1977ae3c-3524-44e3-a50a-042b98f601a0\" class=\"colab-df-container\">\n",
              "    <div>\n",
              "<style scoped>\n",
              "    .dataframe tbody tr th:only-of-type {\n",
              "        vertical-align: middle;\n",
              "    }\n",
              "\n",
              "    .dataframe tbody tr th {\n",
              "        vertical-align: top;\n",
              "    }\n",
              "\n",
              "    .dataframe thead th {\n",
              "        text-align: right;\n",
              "    }\n",
              "</style>\n",
              "<table border=\"1\" class=\"dataframe\">\n",
              "  <thead>\n",
              "    <tr style=\"text-align: right;\">\n",
              "      <th></th>\n",
              "      <th>Age</th>\n",
              "      <th>Patient's Years</th>\n",
              "      <th>N_positive_ax</th>\n",
              "      <th>survival_status</th>\n",
              "    </tr>\n",
              "  </thead>\n",
              "  <tbody>\n",
              "    <tr>\n",
              "      <th>0</th>\n",
              "      <td>30</td>\n",
              "      <td>64</td>\n",
              "      <td>1</td>\n",
              "      <td>1</td>\n",
              "    </tr>\n",
              "    <tr>\n",
              "      <th>1</th>\n",
              "      <td>30</td>\n",
              "      <td>62</td>\n",
              "      <td>3</td>\n",
              "      <td>1</td>\n",
              "    </tr>\n",
              "    <tr>\n",
              "      <th>2</th>\n",
              "      <td>30</td>\n",
              "      <td>65</td>\n",
              "      <td>0</td>\n",
              "      <td>1</td>\n",
              "    </tr>\n",
              "    <tr>\n",
              "      <th>3</th>\n",
              "      <td>31</td>\n",
              "      <td>59</td>\n",
              "      <td>2</td>\n",
              "      <td>1</td>\n",
              "    </tr>\n",
              "    <tr>\n",
              "      <th>4</th>\n",
              "      <td>31</td>\n",
              "      <td>65</td>\n",
              "      <td>4</td>\n",
              "      <td>1</td>\n",
              "    </tr>\n",
              "  </tbody>\n",
              "</table>\n",
              "</div>\n",
              "    <div class=\"colab-df-buttons\">\n",
              "\n",
              "  <div class=\"colab-df-container\">\n",
              "    <button class=\"colab-df-convert\" onclick=\"convertToInteractive('df-1977ae3c-3524-44e3-a50a-042b98f601a0')\"\n",
              "            title=\"Convert this dataframe to an interactive table.\"\n",
              "            style=\"display:none;\">\n",
              "\n",
              "  <svg xmlns=\"http://www.w3.org/2000/svg\" height=\"24px\" viewBox=\"0 -960 960 960\">\n",
              "    <path d=\"M120-120v-720h720v720H120Zm60-500h600v-160H180v160Zm220 220h160v-160H400v160Zm0 220h160v-160H400v160ZM180-400h160v-160H180v160Zm440 0h160v-160H620v160ZM180-180h160v-160H180v160Zm440 0h160v-160H620v160Z\"/>\n",
              "  </svg>\n",
              "    </button>\n",
              "\n",
              "  <style>\n",
              "    .colab-df-container {\n",
              "      display:flex;\n",
              "      gap: 12px;\n",
              "    }\n",
              "\n",
              "    .colab-df-convert {\n",
              "      background-color: #E8F0FE;\n",
              "      border: none;\n",
              "      border-radius: 50%;\n",
              "      cursor: pointer;\n",
              "      display: none;\n",
              "      fill: #1967D2;\n",
              "      height: 32px;\n",
              "      padding: 0 0 0 0;\n",
              "      width: 32px;\n",
              "    }\n",
              "\n",
              "    .colab-df-convert:hover {\n",
              "      background-color: #E2EBFA;\n",
              "      box-shadow: 0px 1px 2px rgba(60, 64, 67, 0.3), 0px 1px 3px 1px rgba(60, 64, 67, 0.15);\n",
              "      fill: #174EA6;\n",
              "    }\n",
              "\n",
              "    .colab-df-buttons div {\n",
              "      margin-bottom: 4px;\n",
              "    }\n",
              "\n",
              "    [theme=dark] .colab-df-convert {\n",
              "      background-color: #3B4455;\n",
              "      fill: #D2E3FC;\n",
              "    }\n",
              "\n",
              "    [theme=dark] .colab-df-convert:hover {\n",
              "      background-color: #434B5C;\n",
              "      box-shadow: 0px 1px 3px 1px rgba(0, 0, 0, 0.15);\n",
              "      filter: drop-shadow(0px 1px 2px rgba(0, 0, 0, 0.3));\n",
              "      fill: #FFFFFF;\n",
              "    }\n",
              "  </style>\n",
              "\n",
              "    <script>\n",
              "      const buttonEl =\n",
              "        document.querySelector('#df-1977ae3c-3524-44e3-a50a-042b98f601a0 button.colab-df-convert');\n",
              "      buttonEl.style.display =\n",
              "        google.colab.kernel.accessAllowed ? 'block' : 'none';\n",
              "\n",
              "      async function convertToInteractive(key) {\n",
              "        const element = document.querySelector('#df-1977ae3c-3524-44e3-a50a-042b98f601a0');\n",
              "        const dataTable =\n",
              "          await google.colab.kernel.invokeFunction('convertToInteractive',\n",
              "                                                    [key], {});\n",
              "        if (!dataTable) return;\n",
              "\n",
              "        const docLinkHtml = 'Like what you see? Visit the ' +\n",
              "          '<a target=\"_blank\" href=https://colab.research.google.com/notebooks/data_table.ipynb>data table notebook</a>'\n",
              "          + ' to learn more about interactive tables.';\n",
              "        element.innerHTML = '';\n",
              "        dataTable['output_type'] = 'display_data';\n",
              "        await google.colab.output.renderOutput(dataTable, element);\n",
              "        const docLink = document.createElement('div');\n",
              "        docLink.innerHTML = docLinkHtml;\n",
              "        element.appendChild(docLink);\n",
              "      }\n",
              "    </script>\n",
              "  </div>\n",
              "\n",
              "\n",
              "<div id=\"df-ff9cb20e-4bc8-4b4f-8f9e-c2776397cb0e\">\n",
              "  <button class=\"colab-df-quickchart\" onclick=\"quickchart('df-ff9cb20e-4bc8-4b4f-8f9e-c2776397cb0e')\"\n",
              "            title=\"Suggest charts\"\n",
              "            style=\"display:none;\">\n",
              "\n",
              "<svg xmlns=\"http://www.w3.org/2000/svg\" height=\"24px\"viewBox=\"0 0 24 24\"\n",
              "     width=\"24px\">\n",
              "    <g>\n",
              "        <path d=\"M19 3H5c-1.1 0-2 .9-2 2v14c0 1.1.9 2 2 2h14c1.1 0 2-.9 2-2V5c0-1.1-.9-2-2-2zM9 17H7v-7h2v7zm4 0h-2V7h2v10zm4 0h-2v-4h2v4z\"/>\n",
              "    </g>\n",
              "</svg>\n",
              "  </button>\n",
              "\n",
              "<style>\n",
              "  .colab-df-quickchart {\n",
              "      --bg-color: #E8F0FE;\n",
              "      --fill-color: #1967D2;\n",
              "      --hover-bg-color: #E2EBFA;\n",
              "      --hover-fill-color: #174EA6;\n",
              "      --disabled-fill-color: #AAA;\n",
              "      --disabled-bg-color: #DDD;\n",
              "  }\n",
              "\n",
              "  [theme=dark] .colab-df-quickchart {\n",
              "      --bg-color: #3B4455;\n",
              "      --fill-color: #D2E3FC;\n",
              "      --hover-bg-color: #434B5C;\n",
              "      --hover-fill-color: #FFFFFF;\n",
              "      --disabled-bg-color: #3B4455;\n",
              "      --disabled-fill-color: #666;\n",
              "  }\n",
              "\n",
              "  .colab-df-quickchart {\n",
              "    background-color: var(--bg-color);\n",
              "    border: none;\n",
              "    border-radius: 50%;\n",
              "    cursor: pointer;\n",
              "    display: none;\n",
              "    fill: var(--fill-color);\n",
              "    height: 32px;\n",
              "    padding: 0;\n",
              "    width: 32px;\n",
              "  }\n",
              "\n",
              "  .colab-df-quickchart:hover {\n",
              "    background-color: var(--hover-bg-color);\n",
              "    box-shadow: 0 1px 2px rgba(60, 64, 67, 0.3), 0 1px 3px 1px rgba(60, 64, 67, 0.15);\n",
              "    fill: var(--button-hover-fill-color);\n",
              "  }\n",
              "\n",
              "  .colab-df-quickchart-complete:disabled,\n",
              "  .colab-df-quickchart-complete:disabled:hover {\n",
              "    background-color: var(--disabled-bg-color);\n",
              "    fill: var(--disabled-fill-color);\n",
              "    box-shadow: none;\n",
              "  }\n",
              "\n",
              "  .colab-df-spinner {\n",
              "    border: 2px solid var(--fill-color);\n",
              "    border-color: transparent;\n",
              "    border-bottom-color: var(--fill-color);\n",
              "    animation:\n",
              "      spin 1s steps(1) infinite;\n",
              "  }\n",
              "\n",
              "  @keyframes spin {\n",
              "    0% {\n",
              "      border-color: transparent;\n",
              "      border-bottom-color: var(--fill-color);\n",
              "      border-left-color: var(--fill-color);\n",
              "    }\n",
              "    20% {\n",
              "      border-color: transparent;\n",
              "      border-left-color: var(--fill-color);\n",
              "      border-top-color: var(--fill-color);\n",
              "    }\n",
              "    30% {\n",
              "      border-color: transparent;\n",
              "      border-left-color: var(--fill-color);\n",
              "      border-top-color: var(--fill-color);\n",
              "      border-right-color: var(--fill-color);\n",
              "    }\n",
              "    40% {\n",
              "      border-color: transparent;\n",
              "      border-right-color: var(--fill-color);\n",
              "      border-top-color: var(--fill-color);\n",
              "    }\n",
              "    60% {\n",
              "      border-color: transparent;\n",
              "      border-right-color: var(--fill-color);\n",
              "    }\n",
              "    80% {\n",
              "      border-color: transparent;\n",
              "      border-right-color: var(--fill-color);\n",
              "      border-bottom-color: var(--fill-color);\n",
              "    }\n",
              "    90% {\n",
              "      border-color: transparent;\n",
              "      border-bottom-color: var(--fill-color);\n",
              "    }\n",
              "  }\n",
              "</style>\n",
              "\n",
              "  <script>\n",
              "    async function quickchart(key) {\n",
              "      const quickchartButtonEl =\n",
              "        document.querySelector('#' + key + ' button');\n",
              "      quickchartButtonEl.disabled = true;  // To prevent multiple clicks.\n",
              "      quickchartButtonEl.classList.add('colab-df-spinner');\n",
              "      try {\n",
              "        const charts = await google.colab.kernel.invokeFunction(\n",
              "            'suggestCharts', [key], {});\n",
              "      } catch (error) {\n",
              "        console.error('Error during call to suggestCharts:', error);\n",
              "      }\n",
              "      quickchartButtonEl.classList.remove('colab-df-spinner');\n",
              "      quickchartButtonEl.classList.add('colab-df-quickchart-complete');\n",
              "    }\n",
              "    (() => {\n",
              "      let quickchartButtonEl =\n",
              "        document.querySelector('#df-ff9cb20e-4bc8-4b4f-8f9e-c2776397cb0e button');\n",
              "      quickchartButtonEl.style.display =\n",
              "        google.colab.kernel.accessAllowed ? 'block' : 'none';\n",
              "    })();\n",
              "  </script>\n",
              "</div>\n",
              "    </div>\n",
              "  </div>\n"
            ],
            "application/vnd.google.colaboratory.intrinsic+json": {
              "type": "dataframe",
              "variable_name": "df",
              "summary": "{\n  \"name\": \"df\",\n  \"rows\": 306,\n  \"fields\": [\n    {\n      \"column\": \"Age\",\n      \"properties\": {\n        \"dtype\": \"number\",\n        \"std\": 10,\n        \"min\": 30,\n        \"max\": 83,\n        \"num_unique_values\": 49,\n        \"samples\": [\n          44,\n          76,\n          78\n        ],\n        \"semantic_type\": \"\",\n        \"description\": \"\"\n      }\n    },\n    {\n      \"column\": \"Patient's Years\",\n      \"properties\": {\n        \"dtype\": \"number\",\n        \"std\": 3,\n        \"min\": 58,\n        \"max\": 69,\n        \"num_unique_values\": 12,\n        \"samples\": [\n          69,\n          63,\n          64\n        ],\n        \"semantic_type\": \"\",\n        \"description\": \"\"\n      }\n    },\n    {\n      \"column\": \"N_positive_ax\",\n      \"properties\": {\n        \"dtype\": \"number\",\n        \"std\": 7,\n        \"min\": 0,\n        \"max\": 52,\n        \"num_unique_values\": 31,\n        \"samples\": [\n          35,\n          23,\n          24\n        ],\n        \"semantic_type\": \"\",\n        \"description\": \"\"\n      }\n    },\n    {\n      \"column\": \"survival_status\",\n      \"properties\": {\n        \"dtype\": \"number\",\n        \"std\": 0,\n        \"min\": 1,\n        \"max\": 2,\n        \"num_unique_values\": 2,\n        \"samples\": [\n          2,\n          1\n        ],\n        \"semantic_type\": \"\",\n        \"description\": \"\"\n      }\n    }\n  ]\n}"
            }
          },
          "metadata": {},
          "execution_count": 2
        }
      ]
    },
    {
      "cell_type": "markdown",
      "source": [
        "Menghitung value dari kolom 'survival_status'"
      ],
      "metadata": {
        "id": "WyU7QMOIOO5N"
      }
    },
    {
      "cell_type": "code",
      "source": [
        "df['survival_status'].value_counts()"
      ],
      "metadata": {
        "trusted": true,
        "colab": {
          "base_uri": "https://localhost:8080/"
        },
        "id": "9CtVHfUBOO5O",
        "outputId": "88e4aa64-c7dd-440e-e385-876395882b89"
      },
      "execution_count": 3,
      "outputs": [
        {
          "output_type": "execute_result",
          "data": {
            "text/plain": [
              "1    225\n",
              "2     81\n",
              "Name: survival_status, dtype: int64"
            ]
          },
          "metadata": {},
          "execution_count": 3
        }
      ]
    },
    {
      "cell_type": "markdown",
      "source": [
        "Menentukan label dan fitur serta membagi data menjadi data train dan data test"
      ],
      "metadata": {
        "id": "q2W0MTyYOO5O"
      }
    },
    {
      "cell_type": "code",
      "source": [
        "X = df.drop(['survival_status'], axis=1)\n",
        "y = df['survival_status']\n",
        "\n",
        "# spliting daa\n",
        "from sklearn.model_selection import train_test_split\n",
        "\n",
        "X_train, X_test, y_train, y_test = train_test_split(X, y, test_size=0.25, random_state=21, stratify=y)"
      ],
      "metadata": {
        "trusted": true,
        "id": "ZwjLgh9-OO5O"
      },
      "execution_count": 4,
      "outputs": []
    },
    {
      "cell_type": "markdown",
      "source": [
        "Import model ML, cross val score, gscv dan matriks untuk evalusai ML serta menentukan cv score rata-rata"
      ],
      "metadata": {
        "id": "8V5QBAKQOO5O"
      }
    },
    {
      "cell_type": "code",
      "source": [
        "from sklearn.linear_model import LogisticRegression\n",
        "from sklearn.model_selection import cross_val_score,cross_validate\n",
        "from sklearn.model_selection import GridSearchCV\n",
        "from sklearn.metrics import confusion_matrix, classification_report\n",
        "model_lr = LogisticRegression()\n",
        "cv_score = cross_val_score(model_lr, X,y, scoring='roc_auc', cv=5)\n",
        "cv_score.mean()"
      ],
      "metadata": {
        "trusted": true,
        "colab": {
          "base_uri": "https://localhost:8080/"
        },
        "id": "3Ax6w72LOO5O",
        "outputId": "6f256da6-6ffb-4abd-cd29-e1ef05c8f165"
      },
      "execution_count": 5,
      "outputs": [
        {
          "output_type": "execute_result",
          "data": {
            "text/plain": [
              "0.6942483660130719"
            ]
          },
          "metadata": {},
          "execution_count": 5
        }
      ]
    },
    {
      "cell_type": "markdown",
      "source": [
        "Melakukan fitting model dan predicting untuk data test"
      ],
      "metadata": {
        "id": "IRhWmCz5OO5P"
      }
    },
    {
      "cell_type": "code",
      "source": [
        "model_lr.fit(X_train, y_train)\n",
        "y_pred = model_lr.predict(X_test)"
      ],
      "metadata": {
        "trusted": true,
        "id": "ah08qPt0OO5Q"
      },
      "execution_count": 6,
      "outputs": []
    },
    {
      "cell_type": "markdown",
      "source": [
        "Confussion matriks yang menunjukkan data TP, TN, FP, dan FN"
      ],
      "metadata": {
        "id": "wuGEDgyBOO5Q"
      }
    },
    {
      "cell_type": "code",
      "source": [
        "confusion_matrix(y_test, y_pred, labels=[1,2])"
      ],
      "metadata": {
        "trusted": true,
        "colab": {
          "base_uri": "https://localhost:8080/"
        },
        "id": "5ouPOGtZOO5Q",
        "outputId": "cdd8245e-7dc7-413a-bb56-10ee02a00c81"
      },
      "execution_count": 7,
      "outputs": [
        {
          "output_type": "execute_result",
          "data": {
            "text/plain": [
              "array([[52,  5],\n",
              "       [17,  3]])"
            ]
          },
          "metadata": {},
          "execution_count": 7
        }
      ]
    },
    {
      "cell_type": "markdown",
      "source": [
        "Membuat report hasil akurasi,precisio, recall dan f1-score dari hasil prediksi"
      ],
      "metadata": {
        "id": "pnmBBmVyOO5R"
      }
    },
    {
      "cell_type": "code",
      "source": [
        "print(classification_report(y_test, y_pred))"
      ],
      "metadata": {
        "trusted": true,
        "colab": {
          "base_uri": "https://localhost:8080/"
        },
        "id": "TdenbCKUOO5R",
        "outputId": "4e742c93-13fc-4578-a98e-43a64da7a1fd"
      },
      "execution_count": 8,
      "outputs": [
        {
          "output_type": "stream",
          "name": "stdout",
          "text": [
            "              precision    recall  f1-score   support\n",
            "\n",
            "           1       0.75      0.91      0.83        57\n",
            "           2       0.38      0.15      0.21        20\n",
            "\n",
            "    accuracy                           0.71        77\n",
            "   macro avg       0.56      0.53      0.52        77\n",
            "weighted avg       0.66      0.71      0.67        77\n",
            "\n"
          ]
        }
      ]
    },
    {
      "cell_type": "markdown",
      "source": [
        "Kita coba secara manual menghitung recall dan precision"
      ],
      "metadata": {
        "id": "OG5yTfiPOO5R"
      }
    },
    {
      "cell_type": "code",
      "source": [
        "TP = 52\n",
        "TN = 3\n",
        "FP = 17\n",
        "FN = 5"
      ],
      "metadata": {
        "trusted": true,
        "id": "OBEf9IgTOO5R"
      },
      "execution_count": 9,
      "outputs": []
    },
    {
      "cell_type": "markdown",
      "source": [
        "**Precision**"
      ],
      "metadata": {
        "id": "-wXhJTQPOO5R"
      }
    },
    {
      "cell_type": "markdown",
      "source": [
        "Precision menunjukkan hasil yang lebih menunjukkan keefektifan pada matriks True Negatif dan dangat menghidari adanya data yang False Positif"
      ],
      "metadata": {
        "id": "8wBtcBuuOO5S"
      }
    },
    {
      "cell_type": "code",
      "source": [
        "precision = TP/(TP+FP)\n",
        "precision"
      ],
      "metadata": {
        "trusted": true,
        "colab": {
          "base_uri": "https://localhost:8080/"
        },
        "id": "hUWxvNX9OO5S",
        "outputId": "d2031742-5518-4a34-a135-1a5ccee2e0d8"
      },
      "execution_count": 10,
      "outputs": [
        {
          "output_type": "execute_result",
          "data": {
            "text/plain": [
              "0.7536231884057971"
            ]
          },
          "metadata": {},
          "execution_count": 10
        }
      ]
    },
    {
      "cell_type": "markdown",
      "source": [
        "**Recall**"
      ],
      "metadata": {
        "id": "roeTo6HhOO5S"
      }
    },
    {
      "cell_type": "code",
      "source": [
        "recall = TP/(TP+FN)\n",
        "recall"
      ],
      "metadata": {
        "trusted": true,
        "colab": {
          "base_uri": "https://localhost:8080/"
        },
        "id": "W9XWJLSxOO5S",
        "outputId": "a72e93f2-ff66-4dc4-ec96-2b6237a450bd"
      },
      "execution_count": 11,
      "outputs": [
        {
          "output_type": "execute_result",
          "data": {
            "text/plain": [
              "0.9122807017543859"
            ]
          },
          "metadata": {},
          "execution_count": 11
        }
      ]
    },
    {
      "cell_type": "markdown",
      "source": [
        "# Model Selection"
      ],
      "metadata": {
        "id": "IpiDm-qmOO5S"
      }
    },
    {
      "cell_type": "markdown",
      "source": [
        "Menggunakan GridSearchCV untuk hyperparameter tuning dan model selection dan model algoritma KNN sebagai model classifier."
      ],
      "metadata": {
        "id": "kp-tfHF_OO5S"
      }
    },
    {
      "cell_type": "markdown",
      "source": [
        "> Menggunakan dataset yang sama dengan dataset untuk evaluasi matriks"
      ],
      "metadata": {
        "id": "_yG2reBxOO5T"
      }
    },
    {
      "cell_type": "markdown",
      "source": [
        "**KNN**"
      ],
      "metadata": {
        "id": "jhbMbgZhOO5T"
      }
    },
    {
      "cell_type": "markdown",
      "source": [
        "Menggunakan gscv untuk tuning hyperparameter model algoritma KNN dengan n array 5-50 dan weights 'distance' dan 'uniform'"
      ],
      "metadata": {
        "id": "XSOEz9r4OO5T"
      }
    },
    {
      "cell_type": "code",
      "source": [
        "from sklearn.neighbors import KNeighborsClassifier\n",
        "from sklearn.model_selection import GridSearchCV\n",
        "model_knn =  KNeighborsClassifier()\n",
        "param_grid = {'n_neighbors':np.arange(5,50), 'weights':['distance','uniform']}\n",
        "gscv= GridSearchCV(model_knn,param_grid=param_grid, scoring='roc_auc', cv=5)\n",
        "#latih model\n",
        "gscv.fit(X,y)"
      ],
      "metadata": {
        "trusted": true,
        "colab": {
          "base_uri": "https://localhost:8080/",
          "height": 117
        },
        "id": "rFqDhe1jOO5T",
        "outputId": "5f75d463-c976-413c-9395-e6689c237c05"
      },
      "execution_count": 12,
      "outputs": [
        {
          "output_type": "execute_result",
          "data": {
            "text/plain": [
              "GridSearchCV(cv=5, estimator=KNeighborsClassifier(),\n",
              "             param_grid={'n_neighbors': array([ 5,  6,  7,  8,  9, 10, 11, 12, 13, 14, 15, 16, 17, 18, 19, 20, 21,\n",
              "       22, 23, 24, 25, 26, 27, 28, 29, 30, 31, 32, 33, 34, 35, 36, 37, 38,\n",
              "       39, 40, 41, 42, 43, 44, 45, 46, 47, 48, 49]),\n",
              "                         'weights': ['distance', 'uniform']},\n",
              "             scoring='roc_auc')"
            ],
            "text/html": [
              "<style>#sk-container-id-1 {color: black;background-color: white;}#sk-container-id-1 pre{padding: 0;}#sk-container-id-1 div.sk-toggleable {background-color: white;}#sk-container-id-1 label.sk-toggleable__label {cursor: pointer;display: block;width: 100%;margin-bottom: 0;padding: 0.3em;box-sizing: border-box;text-align: center;}#sk-container-id-1 label.sk-toggleable__label-arrow:before {content: \"▸\";float: left;margin-right: 0.25em;color: #696969;}#sk-container-id-1 label.sk-toggleable__label-arrow:hover:before {color: black;}#sk-container-id-1 div.sk-estimator:hover label.sk-toggleable__label-arrow:before {color: black;}#sk-container-id-1 div.sk-toggleable__content {max-height: 0;max-width: 0;overflow: hidden;text-align: left;background-color: #f0f8ff;}#sk-container-id-1 div.sk-toggleable__content pre {margin: 0.2em;color: black;border-radius: 0.25em;background-color: #f0f8ff;}#sk-container-id-1 input.sk-toggleable__control:checked~div.sk-toggleable__content {max-height: 200px;max-width: 100%;overflow: auto;}#sk-container-id-1 input.sk-toggleable__control:checked~label.sk-toggleable__label-arrow:before {content: \"▾\";}#sk-container-id-1 div.sk-estimator input.sk-toggleable__control:checked~label.sk-toggleable__label {background-color: #d4ebff;}#sk-container-id-1 div.sk-label input.sk-toggleable__control:checked~label.sk-toggleable__label {background-color: #d4ebff;}#sk-container-id-1 input.sk-hidden--visually {border: 0;clip: rect(1px 1px 1px 1px);clip: rect(1px, 1px, 1px, 1px);height: 1px;margin: -1px;overflow: hidden;padding: 0;position: absolute;width: 1px;}#sk-container-id-1 div.sk-estimator {font-family: monospace;background-color: #f0f8ff;border: 1px dotted black;border-radius: 0.25em;box-sizing: border-box;margin-bottom: 0.5em;}#sk-container-id-1 div.sk-estimator:hover {background-color: #d4ebff;}#sk-container-id-1 div.sk-parallel-item::after {content: \"\";width: 100%;border-bottom: 1px solid gray;flex-grow: 1;}#sk-container-id-1 div.sk-label:hover label.sk-toggleable__label {background-color: #d4ebff;}#sk-container-id-1 div.sk-serial::before {content: \"\";position: absolute;border-left: 1px solid gray;box-sizing: border-box;top: 0;bottom: 0;left: 50%;z-index: 0;}#sk-container-id-1 div.sk-serial {display: flex;flex-direction: column;align-items: center;background-color: white;padding-right: 0.2em;padding-left: 0.2em;position: relative;}#sk-container-id-1 div.sk-item {position: relative;z-index: 1;}#sk-container-id-1 div.sk-parallel {display: flex;align-items: stretch;justify-content: center;background-color: white;position: relative;}#sk-container-id-1 div.sk-item::before, #sk-container-id-1 div.sk-parallel-item::before {content: \"\";position: absolute;border-left: 1px solid gray;box-sizing: border-box;top: 0;bottom: 0;left: 50%;z-index: -1;}#sk-container-id-1 div.sk-parallel-item {display: flex;flex-direction: column;z-index: 1;position: relative;background-color: white;}#sk-container-id-1 div.sk-parallel-item:first-child::after {align-self: flex-end;width: 50%;}#sk-container-id-1 div.sk-parallel-item:last-child::after {align-self: flex-start;width: 50%;}#sk-container-id-1 div.sk-parallel-item:only-child::after {width: 0;}#sk-container-id-1 div.sk-dashed-wrapped {border: 1px dashed gray;margin: 0 0.4em 0.5em 0.4em;box-sizing: border-box;padding-bottom: 0.4em;background-color: white;}#sk-container-id-1 div.sk-label label {font-family: monospace;font-weight: bold;display: inline-block;line-height: 1.2em;}#sk-container-id-1 div.sk-label-container {text-align: center;}#sk-container-id-1 div.sk-container {/* jupyter's `normalize.less` sets `[hidden] { display: none; }` but bootstrap.min.css set `[hidden] { display: none !important; }` so we also need the `!important` here to be able to override the default hidden behavior on the sphinx rendered scikit-learn.org. See: https://github.com/scikit-learn/scikit-learn/issues/21755 */display: inline-block !important;position: relative;}#sk-container-id-1 div.sk-text-repr-fallback {display: none;}</style><div id=\"sk-container-id-1\" class=\"sk-top-container\"><div class=\"sk-text-repr-fallback\"><pre>GridSearchCV(cv=5, estimator=KNeighborsClassifier(),\n",
              "             param_grid={&#x27;n_neighbors&#x27;: array([ 5,  6,  7,  8,  9, 10, 11, 12, 13, 14, 15, 16, 17, 18, 19, 20, 21,\n",
              "       22, 23, 24, 25, 26, 27, 28, 29, 30, 31, 32, 33, 34, 35, 36, 37, 38,\n",
              "       39, 40, 41, 42, 43, 44, 45, 46, 47, 48, 49]),\n",
              "                         &#x27;weights&#x27;: [&#x27;distance&#x27;, &#x27;uniform&#x27;]},\n",
              "             scoring=&#x27;roc_auc&#x27;)</pre><b>In a Jupyter environment, please rerun this cell to show the HTML representation or trust the notebook. <br />On GitHub, the HTML representation is unable to render, please try loading this page with nbviewer.org.</b></div><div class=\"sk-container\" hidden><div class=\"sk-item sk-dashed-wrapped\"><div class=\"sk-label-container\"><div class=\"sk-label sk-toggleable\"><input class=\"sk-toggleable__control sk-hidden--visually\" id=\"sk-estimator-id-1\" type=\"checkbox\" ><label for=\"sk-estimator-id-1\" class=\"sk-toggleable__label sk-toggleable__label-arrow\">GridSearchCV</label><div class=\"sk-toggleable__content\"><pre>GridSearchCV(cv=5, estimator=KNeighborsClassifier(),\n",
              "             param_grid={&#x27;n_neighbors&#x27;: array([ 5,  6,  7,  8,  9, 10, 11, 12, 13, 14, 15, 16, 17, 18, 19, 20, 21,\n",
              "       22, 23, 24, 25, 26, 27, 28, 29, 30, 31, 32, 33, 34, 35, 36, 37, 38,\n",
              "       39, 40, 41, 42, 43, 44, 45, 46, 47, 48, 49]),\n",
              "                         &#x27;weights&#x27;: [&#x27;distance&#x27;, &#x27;uniform&#x27;]},\n",
              "             scoring=&#x27;roc_auc&#x27;)</pre></div></div></div><div class=\"sk-parallel\"><div class=\"sk-parallel-item\"><div class=\"sk-item\"><div class=\"sk-label-container\"><div class=\"sk-label sk-toggleable\"><input class=\"sk-toggleable__control sk-hidden--visually\" id=\"sk-estimator-id-2\" type=\"checkbox\" ><label for=\"sk-estimator-id-2\" class=\"sk-toggleable__label sk-toggleable__label-arrow\">estimator: KNeighborsClassifier</label><div class=\"sk-toggleable__content\"><pre>KNeighborsClassifier()</pre></div></div></div><div class=\"sk-serial\"><div class=\"sk-item\"><div class=\"sk-estimator sk-toggleable\"><input class=\"sk-toggleable__control sk-hidden--visually\" id=\"sk-estimator-id-3\" type=\"checkbox\" ><label for=\"sk-estimator-id-3\" class=\"sk-toggleable__label sk-toggleable__label-arrow\">KNeighborsClassifier</label><div class=\"sk-toggleable__content\"><pre>KNeighborsClassifier()</pre></div></div></div></div></div></div></div></div></div></div>"
            ]
          },
          "metadata": {},
          "execution_count": 12
        }
      ]
    },
    {
      "cell_type": "markdown",
      "source": [
        "Mendapatkan hyperparameter terbaik untuk kombinasi hyperparameterMendapatkan"
      ],
      "metadata": {
        "id": "cHiMTlIwOO5T"
      }
    },
    {
      "cell_type": "code",
      "source": [
        "gscv.best_params_"
      ],
      "metadata": {
        "trusted": true,
        "colab": {
          "base_uri": "https://localhost:8080/"
        },
        "id": "47k4862BOO5T",
        "outputId": "b75ab549-4d2b-4f71-92d1-92784926b31e"
      },
      "execution_count": 13,
      "outputs": [
        {
          "output_type": "execute_result",
          "data": {
            "text/plain": [
              "{'n_neighbors': 39, 'weights': 'uniform'}"
            ]
          },
          "metadata": {},
          "execution_count": 13
        }
      ]
    },
    {
      "cell_type": "markdown",
      "source": [
        "Score validasi terbaik"
      ],
      "metadata": {
        "id": "MbXIp6sSOO5U"
      }
    },
    {
      "cell_type": "code",
      "source": [
        "gscv.best_score_"
      ],
      "metadata": {
        "trusted": true,
        "colab": {
          "base_uri": "https://localhost:8080/"
        },
        "id": "Dptguj2fOO5U",
        "outputId": "39c67fe8-e37d-4c88-fe81-3247a85504f6"
      },
      "execution_count": 14,
      "outputs": [
        {
          "output_type": "execute_result",
          "data": {
            "text/plain": [
              "0.7130718954248365"
            ]
          },
          "metadata": {},
          "execution_count": 14
        }
      ]
    },
    {
      "cell_type": "markdown",
      "source": [
        "Prediksi probabilitasi output"
      ],
      "metadata": {
        "id": "t-xW8JXnOO5U"
      }
    },
    {
      "cell_type": "code",
      "source": [
        "gscv.predict_proba(X_test)"
      ],
      "metadata": {
        "trusted": true,
        "colab": {
          "base_uri": "https://localhost:8080/"
        },
        "id": "dE7TuQjmOO5U",
        "outputId": "6ddc0bcf-7700-42ac-8883-12a086bc9358"
      },
      "execution_count": 15,
      "outputs": [
        {
          "output_type": "execute_result",
          "data": {
            "text/plain": [
              "array([[0.71794872, 0.28205128],\n",
              "       [0.74358974, 0.25641026],\n",
              "       [0.66666667, 0.33333333],\n",
              "       [0.48717949, 0.51282051],\n",
              "       [0.69230769, 0.30769231],\n",
              "       [0.82051282, 0.17948718],\n",
              "       [0.79487179, 0.20512821],\n",
              "       [0.79487179, 0.20512821],\n",
              "       [0.74358974, 0.25641026],\n",
              "       [0.69230769, 0.30769231],\n",
              "       [0.38461538, 0.61538462],\n",
              "       [0.87179487, 0.12820513],\n",
              "       [0.74358974, 0.25641026],\n",
              "       [0.84615385, 0.15384615],\n",
              "       [0.84615385, 0.15384615],\n",
              "       [0.92307692, 0.07692308],\n",
              "       [0.82051282, 0.17948718],\n",
              "       [0.74358974, 0.25641026],\n",
              "       [0.76923077, 0.23076923],\n",
              "       [0.46153846, 0.53846154],\n",
              "       [0.87179487, 0.12820513],\n",
              "       [0.84615385, 0.15384615],\n",
              "       [0.84615385, 0.15384615],\n",
              "       [0.38461538, 0.61538462],\n",
              "       [0.87179487, 0.12820513],\n",
              "       [0.92307692, 0.07692308],\n",
              "       [0.84615385, 0.15384615],\n",
              "       [0.87179487, 0.12820513],\n",
              "       [0.8974359 , 0.1025641 ],\n",
              "       [0.82051282, 0.17948718],\n",
              "       [0.8974359 , 0.1025641 ],\n",
              "       [0.41025641, 0.58974359],\n",
              "       [0.79487179, 0.20512821],\n",
              "       [0.79487179, 0.20512821],\n",
              "       [0.48717949, 0.51282051],\n",
              "       [0.79487179, 0.20512821],\n",
              "       [0.84615385, 0.15384615],\n",
              "       [0.79487179, 0.20512821],\n",
              "       [0.87179487, 0.12820513],\n",
              "       [0.79487179, 0.20512821],\n",
              "       [0.51282051, 0.48717949],\n",
              "       [0.84615385, 0.15384615],\n",
              "       [0.74358974, 0.25641026],\n",
              "       [0.56410256, 0.43589744],\n",
              "       [0.79487179, 0.20512821],\n",
              "       [0.92307692, 0.07692308],\n",
              "       [0.82051282, 0.17948718],\n",
              "       [0.8974359 , 0.1025641 ],\n",
              "       [0.87179487, 0.12820513],\n",
              "       [0.41025641, 0.58974359],\n",
              "       [0.79487179, 0.20512821],\n",
              "       [0.41025641, 0.58974359],\n",
              "       [0.87179487, 0.12820513],\n",
              "       [0.76923077, 0.23076923],\n",
              "       [0.84615385, 0.15384615],\n",
              "       [0.84615385, 0.15384615],\n",
              "       [0.84615385, 0.15384615],\n",
              "       [0.48717949, 0.51282051],\n",
              "       [0.82051282, 0.17948718],\n",
              "       [0.35897436, 0.64102564],\n",
              "       [0.46153846, 0.53846154],\n",
              "       [0.82051282, 0.17948718],\n",
              "       [0.74358974, 0.25641026],\n",
              "       [0.84615385, 0.15384615],\n",
              "       [0.74358974, 0.25641026],\n",
              "       [0.74358974, 0.25641026],\n",
              "       [0.76923077, 0.23076923],\n",
              "       [0.74358974, 0.25641026],\n",
              "       [0.64102564, 0.35897436],\n",
              "       [0.92307692, 0.07692308],\n",
              "       [0.71794872, 0.28205128],\n",
              "       [0.87179487, 0.12820513],\n",
              "       [0.76923077, 0.23076923],\n",
              "       [0.41025641, 0.58974359],\n",
              "       [0.74358974, 0.25641026],\n",
              "       [0.87179487, 0.12820513],\n",
              "       [0.41025641, 0.58974359]])"
            ]
          },
          "metadata": {},
          "execution_count": 15
        }
      ]
    },
    {
      "cell_type": "markdown",
      "source": [
        "Menampilkan hasil prediksi dimana masing2 adalah nilai probabilitas untuk setiap class label dan urutan label dari hasil prediksi probabilitas."
      ],
      "metadata": {
        "id": "g5J9vY4vOO5V"
      }
    },
    {
      "cell_type": "code",
      "source": [
        "gscv.classes_\n",
        "gscv.predict_proba(X_test)[:,1]"
      ],
      "metadata": {
        "trusted": true,
        "colab": {
          "base_uri": "https://localhost:8080/"
        },
        "id": "vhma8BK6OO5V",
        "outputId": "090a16d5-2eb2-4321-fd93-7a65fd21f457"
      },
      "execution_count": 16,
      "outputs": [
        {
          "output_type": "execute_result",
          "data": {
            "text/plain": [
              "array([0.28205128, 0.25641026, 0.33333333, 0.51282051, 0.30769231,\n",
              "       0.17948718, 0.20512821, 0.20512821, 0.25641026, 0.30769231,\n",
              "       0.61538462, 0.12820513, 0.25641026, 0.15384615, 0.15384615,\n",
              "       0.07692308, 0.17948718, 0.25641026, 0.23076923, 0.53846154,\n",
              "       0.12820513, 0.15384615, 0.15384615, 0.61538462, 0.12820513,\n",
              "       0.07692308, 0.15384615, 0.12820513, 0.1025641 , 0.17948718,\n",
              "       0.1025641 , 0.58974359, 0.20512821, 0.20512821, 0.51282051,\n",
              "       0.20512821, 0.15384615, 0.20512821, 0.12820513, 0.20512821,\n",
              "       0.48717949, 0.15384615, 0.25641026, 0.43589744, 0.20512821,\n",
              "       0.07692308, 0.17948718, 0.1025641 , 0.12820513, 0.58974359,\n",
              "       0.20512821, 0.58974359, 0.12820513, 0.23076923, 0.15384615,\n",
              "       0.15384615, 0.15384615, 0.51282051, 0.17948718, 0.64102564,\n",
              "       0.53846154, 0.17948718, 0.25641026, 0.15384615, 0.25641026,\n",
              "       0.25641026, 0.23076923, 0.25641026, 0.35897436, 0.07692308,\n",
              "       0.28205128, 0.12820513, 0.23076923, 0.58974359, 0.25641026,\n",
              "       0.12820513, 0.58974359])"
            ]
          },
          "metadata": {},
          "execution_count": 16
        }
      ]
    },
    {
      "cell_type": "code",
      "source": [
        "cv_score_1 = cross_validate(model_knn, X,y, scoring='roc_auc', cv=5, return_train_score=True)\n",
        "cv_score_2 = cross_val_score(model_knn, X,y, scoring='roc_auc')\n",
        "cv_score_1"
      ],
      "metadata": {
        "trusted": true,
        "colab": {
          "base_uri": "https://localhost:8080/"
        },
        "id": "b-G6STkuOO5b",
        "outputId": "52cf650d-6f51-4385-edab-1eccf6f3c0b8"
      },
      "execution_count": 17,
      "outputs": [
        {
          "output_type": "execute_result",
          "data": {
            "text/plain": [
              "{'fit_time': array([0.00423789, 0.00195312, 0.00184917, 0.00187683, 0.00216985]),\n",
              " 'score_time': array([0.00609446, 0.00288749, 0.0029223 , 0.0029285 , 0.00293612]),\n",
              " 'test_score': array([0.69869281, 0.58263889, 0.69861111, 0.73055556, 0.54722222]),\n",
              " 'train_score': array([0.85225694, 0.88098291, 0.83324786, 0.83435897, 0.86239316])}"
            ]
          },
          "metadata": {},
          "execution_count": 17
        }
      ]
    },
    {
      "cell_type": "code",
      "source": [
        "def knn_pred(k):\n",
        "  model = KNeighborsClassifier(n_neighbors=k)\n",
        "  score = cross_validate(model, X,y, cv=10, return_train_score=True)\n",
        "  train_score = score['train_score'].mean()\n",
        "  test_score = score['test_score'].mean()\n",
        "  return train_score, test_score"
      ],
      "metadata": {
        "trusted": true,
        "id": "25EqheIWOO5c"
      },
      "execution_count": 18,
      "outputs": []
    },
    {
      "cell_type": "code",
      "source": [
        "train_scores = []\n",
        "test_scores = []\n",
        "\n",
        "for k in range(2,100):\n",
        "  train_score, test_score = knn_pred(k)\n",
        "  train_scores.append(train_score)\n",
        "  test_scores.append(test_score)"
      ],
      "metadata": {
        "trusted": true,
        "id": "jJLEn0Y0OO5c"
      },
      "execution_count": 19,
      "outputs": []
    },
    {
      "cell_type": "markdown",
      "source": [
        "**Visualisasi score dari K data train dan data test**"
      ],
      "metadata": {
        "id": "raKPioohOO5c"
      }
    },
    {
      "cell_type": "code",
      "source": [
        "import matplotlib.pyplot as plt\n",
        "\n",
        "fig, ax = plt.subplots(figsize=(12,8))\n",
        "\n",
        "ax.plot(range(2,100), train_scores, marker='x', label='Train Score', color='g')\n",
        "ax.plot(range(2,100), test_scores, marker='o', label='Test Score', c='b')\n",
        "\n",
        "ax.set_xlabel('K')\n",
        "ax.set_ylabel('score')\n",
        "\n",
        "plt.legend()\n",
        "plt.show()"
      ],
      "metadata": {
        "trusted": true,
        "colab": {
          "base_uri": "https://localhost:8080/",
          "height": 696
        },
        "id": "lOW7DCisOO5c",
        "outputId": "1412ead4-6012-41e3-e4a4-7c21a71a46dc"
      },
      "execution_count": 20,
      "outputs": [
        {
          "output_type": "display_data",
          "data": {
            "text/plain": [
              "<Figure size 1200x800 with 1 Axes>"
            ],
            "image/png": "[encoded data removed]"
          },
          "metadata": {}
        }
      ]
    },
    {
      "cell_type": "markdown",
      "source": [
        "> dari visualisasi diatas didapatkan model ini memberikan performa/skor baik dengan k = 40"
      ],
      "metadata": {
        "id": "gOIGj8TzOO5c"
      }
    },
    {
      "cell_type": "markdown",
      "source": [
        "**Decision Tree**"
      ],
      "metadata": {
        "id": "XQkcs0wwOO5d"
      }
    },
    {
      "cell_type": "code",
      "source": [
        "from sklearn.tree import DecisionTreeClassifier\n",
        "from sklearn.model_selection import RandomizedSearchCV\n",
        "model_dt = DecisionTreeClassifier()\n",
        "param_grid = {'splitter':['best','random'], 'criterion':['gini','entropy']}\n",
        "rscv= RandomizedSearchCV(model_dt,param_distributions=param_grid,n_iter=100,scoring='roc_auc')\n",
        "#latih model\n",
        "rscv.fit(X,y)"
      ],
      "metadata": {
        "trusted": true,
        "colab": {
          "base_uri": "https://localhost:8080/",
          "height": 171
        },
        "id": "OlA9AptLOO5d",
        "outputId": "1808f283-5168-4a51-cda8-7c3316a8c118"
      },
      "execution_count": 22,
      "outputs": [
        {
          "output_type": "stream",
          "name": "stderr",
          "text": [
            "/usr/local/lib/python3.10/dist-packages/sklearn/model_selection/_search.py:305: UserWarning: The total space of parameters 4 is smaller than n_iter=100. Running 4 iterations. For exhaustive searches, use GridSearchCV.\n",
            "  warnings.warn(\n"
          ]
        },
        {
          "output_type": "execute_result",
          "data": {
            "text/plain": [
              "RandomizedSearchCV(estimator=DecisionTreeClassifier(), n_iter=100,\n",
              "                   param_distributions={'criterion': ['gini', 'entropy'],\n",
              "                                        'splitter': ['best', 'random']},\n",
              "                   scoring='roc_auc')"
            ],
            "text/html": [
              "<style>#sk-container-id-2 {color: black;background-color: white;}#sk-container-id-2 pre{padding: 0;}#sk-container-id-2 div.sk-toggleable {background-color: white;}#sk-container-id-2 label.sk-toggleable__label {cursor: pointer;display: block;width: 100%;margin-bottom: 0;padding: 0.3em;box-sizing: border-box;text-align: center;}#sk-container-id-2 label.sk-toggleable__label-arrow:before {content: \"▸\";float: left;margin-right: 0.25em;color: #696969;}#sk-container-id-2 label.sk-toggleable__label-arrow:hover:before {color: black;}#sk-container-id-2 div.sk-estimator:hover label.sk-toggleable__label-arrow:before {color: black;}#sk-container-id-2 div.sk-toggleable__content {max-height: 0;max-width: 0;overflow: hidden;text-align: left;background-color: #f0f8ff;}#sk-container-id-2 div.sk-toggleable__content pre {margin: 0.2em;color: black;border-radius: 0.25em;background-color: #f0f8ff;}#sk-container-id-2 input.sk-toggleable__control:checked~div.sk-toggleable__content {max-height: 200px;max-width: 100%;overflow: auto;}#sk-container-id-2 input.sk-toggleable__control:checked~label.sk-toggleable__label-arrow:before {content: \"▾\";}#sk-container-id-2 div.sk-estimator input.sk-toggleable__control:checked~label.sk-toggleable__label {background-color: #d4ebff;}#sk-container-id-2 div.sk-label input.sk-toggleable__control:checked~label.sk-toggleable__label {background-color: #d4ebff;}#sk-container-id-2 input.sk-hidden--visually {border: 0;clip: rect(1px 1px 1px 1px);clip: rect(1px, 1px, 1px, 1px);height: 1px;margin: -1px;overflow: hidden;padding: 0;position: absolute;width: 1px;}#sk-container-id-2 div.sk-estimator {font-family: monospace;background-color: #f0f8ff;border: 1px dotted black;border-radius: 0.25em;box-sizing: border-box;margin-bottom: 0.5em;}#sk-container-id-2 div.sk-estimator:hover {background-color: #d4ebff;}#sk-container-id-2 div.sk-parallel-item::after {content: \"\";width: 100%;border-bottom: 1px solid gray;flex-grow: 1;}#sk-container-id-2 div.sk-label:hover label.sk-toggleable__label {background-color: #d4ebff;}#sk-container-id-2 div.sk-serial::before {content: \"\";position: absolute;border-left: 1px solid gray;box-sizing: border-box;top: 0;bottom: 0;left: 50%;z-index: 0;}#sk-container-id-2 div.sk-serial {display: flex;flex-direction: column;align-items: center;background-color: white;padding-right: 0.2em;padding-left: 0.2em;position: relative;}#sk-container-id-2 div.sk-item {position: relative;z-index: 1;}#sk-container-id-2 div.sk-parallel {display: flex;align-items: stretch;justify-content: center;background-color: white;position: relative;}#sk-container-id-2 div.sk-item::before, #sk-container-id-2 div.sk-parallel-item::before {content: \"\";position: absolute;border-left: 1px solid gray;box-sizing: border-box;top: 0;bottom: 0;left: 50%;z-index: -1;}#sk-container-id-2 div.sk-parallel-item {display: flex;flex-direction: column;z-index: 1;position: relative;background-color: white;}#sk-container-id-2 div.sk-parallel-item:first-child::after {align-self: flex-end;width: 50%;}#sk-container-id-2 div.sk-parallel-item:last-child::after {align-self: flex-start;width: 50%;}#sk-container-id-2 div.sk-parallel-item:only-child::after {width: 0;}#sk-container-id-2 div.sk-dashed-wrapped {border: 1px dashed gray;margin: 0 0.4em 0.5em 0.4em;box-sizing: border-box;padding-bottom: 0.4em;background-color: white;}#sk-container-id-2 div.sk-label label {font-family: monospace;font-weight: bold;display: inline-block;line-height: 1.2em;}#sk-container-id-2 div.sk-label-container {text-align: center;}#sk-container-id-2 div.sk-container {/* jupyter's `normalize.less` sets `[hidden] { display: none; }` but bootstrap.min.css set `[hidden] { display: none !important; }` so we also need the `!important` here to be able to override the default hidden behavior on the sphinx rendered scikit-learn.org. See: https://github.com/scikit-learn/scikit-learn/issues/21755 */display: inline-block !important;position: relative;}#sk-container-id-2 div.sk-text-repr-fallback {display: none;}</style><div id=\"sk-container-id-2\" class=\"sk-top-container\"><div class=\"sk-text-repr-fallback\"><pre>RandomizedSearchCV(estimator=DecisionTreeClassifier(), n_iter=100,\n",
              "                   param_distributions={&#x27;criterion&#x27;: [&#x27;gini&#x27;, &#x27;entropy&#x27;],\n",
              "                                        &#x27;splitter&#x27;: [&#x27;best&#x27;, &#x27;random&#x27;]},\n",
              "                   scoring=&#x27;roc_auc&#x27;)</pre><b>In a Jupyter environment, please rerun this cell to show the HTML representation or trust the notebook. <br />On GitHub, the HTML representation is unable to render, please try loading this page with nbviewer.org.</b></div><div class=\"sk-container\" hidden><div class=\"sk-item sk-dashed-wrapped\"><div class=\"sk-label-container\"><div class=\"sk-label sk-toggleable\"><input class=\"sk-toggleable__control sk-hidden--visually\" id=\"sk-estimator-id-4\" type=\"checkbox\" ><label for=\"sk-estimator-id-4\" class=\"sk-toggleable__label sk-toggleable__label-arrow\">RandomizedSearchCV</label><div class=\"sk-toggleable__content\"><pre>RandomizedSearchCV(estimator=DecisionTreeClassifier(), n_iter=100,\n",
              "                   param_distributions={&#x27;criterion&#x27;: [&#x27;gini&#x27;, &#x27;entropy&#x27;],\n",
              "                                        &#x27;splitter&#x27;: [&#x27;best&#x27;, &#x27;random&#x27;]},\n",
              "                   scoring=&#x27;roc_auc&#x27;)</pre></div></div></div><div class=\"sk-parallel\"><div class=\"sk-parallel-item\"><div class=\"sk-item\"><div class=\"sk-label-container\"><div class=\"sk-label sk-toggleable\"><input class=\"sk-toggleable__control sk-hidden--visually\" id=\"sk-estimator-id-5\" type=\"checkbox\" ><label for=\"sk-estimator-id-5\" class=\"sk-toggleable__label sk-toggleable__label-arrow\">estimator: DecisionTreeClassifier</label><div class=\"sk-toggleable__content\"><pre>DecisionTreeClassifier()</pre></div></div></div><div class=\"sk-serial\"><div class=\"sk-item\"><div class=\"sk-estimator sk-toggleable\"><input class=\"sk-toggleable__control sk-hidden--visually\" id=\"sk-estimator-id-6\" type=\"checkbox\" ><label for=\"sk-estimator-id-6\" class=\"sk-toggleable__label sk-toggleable__label-arrow\">DecisionTreeClassifier</label><div class=\"sk-toggleable__content\"><pre>DecisionTreeClassifier()</pre></div></div></div></div></div></div></div></div></div></div>"
            ]
          },
          "metadata": {},
          "execution_count": 22
        }
      ]
    },
    {
      "cell_type": "markdown",
      "source": [
        "Hyperparameter terbaik untuk kombinasi hyperparameter"
      ],
      "metadata": {
        "id": "oTt7xpzAOO5d"
      }
    },
    {
      "cell_type": "code",
      "source": [
        "rscv.best_params_"
      ],
      "metadata": {
        "trusted": true,
        "colab": {
          "base_uri": "https://localhost:8080/"
        },
        "id": "SsUW-70nOO5d",
        "outputId": "8eb11bb0-4b7a-41b4-86ae-f130020843c7"
      },
      "execution_count": 23,
      "outputs": [
        {
          "output_type": "execute_result",
          "data": {
            "text/plain": [
              "{'splitter': 'random', 'criterion': 'entropy'}"
            ]
          },
          "metadata": {},
          "execution_count": 23
        }
      ]
    },
    {
      "cell_type": "markdown",
      "source": [
        "Prediksi probabilitasi output"
      ],
      "metadata": {
        "id": "YlrbAhFgOO5d"
      }
    },
    {
      "cell_type": "code",
      "source": [
        "rscv.predict_proba(X_test)"
      ],
      "metadata": {
        "trusted": true,
        "colab": {
          "base_uri": "https://localhost:8080/"
        },
        "id": "1H00H_glOO5d",
        "outputId": "d8e754e5-6348-4f59-be4e-43369fe01e10"
      },
      "execution_count": 24,
      "outputs": [
        {
          "output_type": "execute_result",
          "data": {
            "text/plain": [
              "array([[0. , 1. ],\n",
              "       [1. , 0. ],\n",
              "       [1. , 0. ],\n",
              "       [0. , 1. ],\n",
              "       [0.5, 0.5],\n",
              "       [0. , 1. ],\n",
              "       [0. , 1. ],\n",
              "       [1. , 0. ],\n",
              "       [0. , 1. ],\n",
              "       [0.5, 0.5],\n",
              "       [1. , 0. ],\n",
              "       [1. , 0. ],\n",
              "       [0. , 1. ],\n",
              "       [1. , 0. ],\n",
              "       [0.5, 0.5],\n",
              "       [1. , 0. ],\n",
              "       [1. , 0. ],\n",
              "       [1. , 0. ],\n",
              "       [0.5, 0.5],\n",
              "       [1. , 0. ],\n",
              "       [1. , 0. ],\n",
              "       [0.5, 0.5],\n",
              "       [1. , 0. ],\n",
              "       [1. , 0. ],\n",
              "       [1. , 0. ],\n",
              "       [0. , 1. ],\n",
              "       [1. , 0. ],\n",
              "       [1. , 0. ],\n",
              "       [1. , 0. ],\n",
              "       [1. , 0. ],\n",
              "       [1. , 0. ],\n",
              "       [1. , 0. ],\n",
              "       [1. , 0. ],\n",
              "       [1. , 0. ],\n",
              "       [1. , 0. ],\n",
              "       [1. , 0. ],\n",
              "       [1. , 0. ],\n",
              "       [1. , 0. ],\n",
              "       [1. , 0. ],\n",
              "       [1. , 0. ],\n",
              "       [0. , 1. ],\n",
              "       [1. , 0. ],\n",
              "       [1. , 0. ],\n",
              "       [1. , 0. ],\n",
              "       [1. , 0. ],\n",
              "       [1. , 0. ],\n",
              "       [1. , 0. ],\n",
              "       [1. , 0. ],\n",
              "       [1. , 0. ],\n",
              "       [1. , 0. ],\n",
              "       [0. , 1. ],\n",
              "       [0. , 1. ],\n",
              "       [1. , 0. ],\n",
              "       [1. , 0. ],\n",
              "       [1. , 0. ],\n",
              "       [1. , 0. ],\n",
              "       [1. , 0. ],\n",
              "       [0. , 1. ],\n",
              "       [1. , 0. ],\n",
              "       [0. , 1. ],\n",
              "       [0. , 1. ],\n",
              "       [1. , 0. ],\n",
              "       [1. , 0. ],\n",
              "       [1. , 0. ],\n",
              "       [1. , 0. ],\n",
              "       [1. , 0. ],\n",
              "       [1. , 0. ],\n",
              "       [1. , 0. ],\n",
              "       [1. , 0. ],\n",
              "       [1. , 0. ],\n",
              "       [0. , 1. ],\n",
              "       [1. , 0. ],\n",
              "       [0.5, 0.5],\n",
              "       [0. , 1. ],\n",
              "       [1. , 0. ],\n",
              "       [1. , 0. ],\n",
              "       [0. , 1. ]])"
            ]
          },
          "metadata": {},
          "execution_count": 24
        }
      ]
    },
    {
      "cell_type": "markdown",
      "source": [
        "Menampilkan hasil prediksi dimana masing2 adalah nilai probabilitas untuk setiap class label dan urutan label dari hasil prediksi probabilitas."
      ],
      "metadata": {
        "id": "y2FZYrhSOO5e"
      }
    },
    {
      "cell_type": "code",
      "source": [
        "rscv.classes_\n",
        "rscv.predict_proba(X_test)[:,1]"
      ],
      "metadata": {
        "trusted": true,
        "colab": {
          "base_uri": "https://localhost:8080/"
        },
        "id": "0VNn6g9POO5e",
        "outputId": "048af812-cf30-4c70-dbd9-e8b3fce77a98"
      },
      "execution_count": 25,
      "outputs": [
        {
          "output_type": "execute_result",
          "data": {
            "text/plain": [
              "array([1. , 0. , 0. , 1. , 0.5, 1. , 1. , 0. , 1. , 0.5, 0. , 0. , 1. ,\n",
              "       0. , 0.5, 0. , 0. , 0. , 0.5, 0. , 0. , 0.5, 0. , 0. , 0. , 1. ,\n",
              "       0. , 0. , 0. , 0. , 0. , 0. , 0. , 0. , 0. , 0. , 0. , 0. , 0. ,\n",
              "       0. , 1. , 0. , 0. , 0. , 0. , 0. , 0. , 0. , 0. , 0. , 1. , 1. ,\n",
              "       0. , 0. , 0. , 0. , 0. , 1. , 0. , 1. , 1. , 0. , 0. , 0. , 0. ,\n",
              "       0. , 0. , 0. , 0. , 0. , 1. , 0. , 0.5, 1. , 0. , 0. , 1. ])"
            ]
          },
          "metadata": {},
          "execution_count": 25
        }
      ]
    },
    {
      "cell_type": "code",
      "source": [
        "cv_score_1_ = cross_validate(model_dt, X,y, scoring='roc_auc', cv=5, return_train_score=True)\n",
        "cv_score_2_ = cross_val_score(model_dt, X,y, scoring='roc_auc')\n",
        "cv_score_1_"
      ],
      "metadata": {
        "trusted": true,
        "colab": {
          "base_uri": "https://localhost:8080/"
        },
        "id": "-e2HZyDNOO5e",
        "outputId": "121f13c0-18b2-433d-ffe9-2bc354376ec5"
      },
      "execution_count": 26,
      "outputs": [
        {
          "output_type": "execute_result",
          "data": {
            "text/plain": [
              "{'fit_time': array([0.00696349, 0.00218153, 0.00211573, 0.00204825, 0.00205231]),\n",
              " 'score_time': array([0.00283861, 0.00225544, 0.00234246, 0.00227475, 0.00237679]),\n",
              " 'test_score': array([0.51176471, 0.37430556, 0.58125   , 0.48472222, 0.57152778]),\n",
              " 'train_score': array([0.99891493, 0.99931624, 0.99893162, 0.99893162, 0.99931624])}"
            ]
          },
          "metadata": {},
          "execution_count": 26
        }
      ]
    },
    {
      "cell_type": "markdown",
      "source": [],
      "metadata": {
        "id": "eDxF8KrSOO5e"
      }
    }
  ]
}